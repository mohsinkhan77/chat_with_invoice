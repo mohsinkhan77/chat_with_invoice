{
  "cells": [
    {
      "cell_type": "markdown",
      "metadata": {
        "id": "UvTPRErEO2cl"
      },
      "source": [
        "##### Copyright 2025 Google LLC."
      ]
    },
    {
      "cell_type": "markdown",
      "metadata": {
        "id": "2Xjw-LFKoD1-"
      },
      "source": [
        "# Gemini API: Analyze a Video - Historic Event Recognition\n",
        "\n",
        "This notebook shows how you can use Gemini models' multimodal capabilities to recognize which historic event is happening in the video."
      ]
    },
    {
      "cell_type": "markdown",
      "metadata": {
        "id": "dJY5C59gPf-m"
      },
      "source": [
        "<a target=\"_blank\" href=\"https://colab.research.google.com/github/google-gemini/cookbook/blob/main/examples/Analyze_a_Video_Historic_Event_Recognition.ipynb\"><img src=\"https://colab.research.google.com/assets/colab-badge.svg\" height=30/></a>"
      ]
    },
    {
      "cell_type": "code",
      "execution_count": 1,
      "metadata": {
        "id": "NwP4PBGWoQiJ",
        "colab": {
          "base_uri": "https://localhost:8080/"
        },
        "outputId": "3b7afa7c-bf16-4e58-a336-c23f1e177514"
      },
      "outputs": [
        {
          "output_type": "stream",
          "name": "stdout",
          "text": [
            "\u001b[2K     \u001b[90m━━━━━━━━━━━━━━━━━━━━━━━━━━━━━━━━━━━━━━━━\u001b[0m \u001b[32m43.1/43.1 kB\u001b[0m \u001b[31m2.1 MB/s\u001b[0m eta \u001b[36m0:00:00\u001b[0m\n",
            "\u001b[2K   \u001b[90m━━━━━━━━━━━━━━━━━━━━━━━━━━━━━━━━━━━━━━━━\u001b[0m \u001b[32m231.9/231.9 kB\u001b[0m \u001b[31m8.4 MB/s\u001b[0m eta \u001b[36m0:00:00\u001b[0m\n",
            "\u001b[?25h"
          ]
        }
      ],
      "source": [
        "%pip install -U -q \"google-genai>=1.0.0\""
      ]
    },
    {
      "cell_type": "markdown",
      "metadata": {
        "id": "KsMCUn_nRRtV"
      },
      "source": [
        "## Configure your API key\n",
        "\n",
        "To run the following cell, your API key must be stored in a Colab Secret named `GOOGLE_API_KEY`. If you don't already have an API key, or you're not sure how to create a Colab Secret, see [Authentication](https://github.com/google-gemini/cookbook/blob/main/quickstarts/Authentication.ipynb) for an example."
      ]
    },
    {
      "cell_type": "code",
      "execution_count": 17,
      "metadata": {
        "id": "yGjQlQ9hoSOk"
      },
      "outputs": [],
      "source": [
        "from google import genai\n",
        "from google.colab import userdata\n",
        "\n",
        "API_KEY = userdata.get('google_api_key')\n",
        "client = genai.Client(api_key=API_KEY)"
      ]
    },
    {
      "cell_type": "markdown",
      "metadata": {
        "id": "9y6o91Xb7RZb"
      },
      "source": [
        "## Example\n",
        "\n",
        "This example uses [video of President Ronald Reagan's Speech at the Berlin Wall](https://s3.amazonaws.com/NARAprodstorage/opastorage/live/16/147/6014716/content/presidential-libraries/reagan/5730544/6-12-1987-439.mp4) taken on June 12 1987."
      ]
    },
    {
      "cell_type": "code",
      "execution_count": 8,
      "metadata": {
        "id": "M794IEOG7QzI",
        "colab": {
          "base_uri": "https://localhost:8080/"
        },
        "outputId": "d1329430-725c-47fb-99f6-f8deac984e70"
      },
      "outputs": [
        {
          "output_type": "stream",
          "name": "stdout",
          "text": [
            "--2025-08-22 08:55:35--  https://s3.amazonaws.com/NARAprodstorage/opastorage/live/16/147/6014716/content/presidential-libraries/reagan/5730544/6-12-1987-439.mp4\n",
            "Resolving s3.amazonaws.com (s3.amazonaws.com)... 52.217.117.224, 52.216.184.213, 16.182.100.16, ...\n",
            "Connecting to s3.amazonaws.com (s3.amazonaws.com)|52.217.117.224|:443... connected.\n",
            "HTTP request sent, awaiting response... 200 OK\n",
            "Length: 628645171 (600M) [video/mp4]\n",
            "Saving to: ‘berlin.mp4’\n",
            "\n",
            "berlin.mp4          100%[===================>] 599.52M  34.9MB/s    in 16s     \n",
            "\n",
            "2025-08-22 08:55:52 (36.8 MB/s) - ‘berlin.mp4’ saved [628645171/628645171]\n",
            "\n"
          ]
        }
      ],
      "source": [
        "# Download video\n",
        "path = \"berlin.mp4\"\n",
        "url = \"https://s3.amazonaws.com/NARAprodstorage/opastorage/live/16/147/6014716/content/presidential-libraries/reagan/5730544/6-12-1987-439.mp4\"\n",
        "!wget $url -O $path"
      ]
    },
    {
      "cell_type": "code",
      "execution_count": 18,
      "metadata": {
        "id": "efnp0oAq7kYx"
      },
      "outputs": [],
      "source": [
        "# Upload video\n",
        "video_file = client.files.upload(file=path)"
      ]
    },
    {
      "cell_type": "code",
      "execution_count": 19,
      "metadata": {
        "id": "ij9-oG3g7yyj",
        "colab": {
          "base_uri": "https://localhost:8080/"
        },
        "outputId": "a15b5ce6-6c25-4da6-840a-0a56fc28312e"
      },
      "outputs": [
        {
          "output_type": "stream",
          "name": "stdout",
          "text": [
            "......................."
          ]
        }
      ],
      "source": [
        "import time\n",
        "# Wait until the uploaded video is available\n",
        "while video_file.state.name == \"PROCESSING\":\n",
        "  print('.', end='')\n",
        "  time.sleep(5)\n",
        "  video_file = client.files.get(name=video_file.name)\n",
        "\n",
        "if video_file.state.name == \"FAILED\":\n",
        "  raise ValueError(video_file.state.name)"
      ]
    },
    {
      "cell_type": "markdown",
      "metadata": {
        "id": "CFG1q42HTHmp"
      },
      "source": [
        "The uploaded video is ready for processing. This prompt instructs the model to provide basic information about the historical events portrayed in the video."
      ]
    },
    {
      "cell_type": "code",
      "execution_count": 20,
      "metadata": {
        "id": "Zhnsiy9O8OXG"
      },
      "outputs": [],
      "source": [
        "system_prompt = \"\"\"\n",
        "  You are historian who specializes in events caught on film.\n",
        "  When you receive a video answer following questions:\n",
        "  When did it happen?\n",
        "  Who is the most important person in video?\n",
        "  How the event is called?\n",
        "\"\"\""
      ]
    },
    {
      "cell_type": "markdown",
      "metadata": {
        "id": "mvbM5XRJjp6T"
      },
      "source": [
        "Some historic events touch on controversial topics that may get flagged by Gemini API, which blocks the response for the query.\n",
        "\n",
        "Because of this, it might be a good idea to turn off safety settings."
      ]
    },
    {
      "cell_type": "code",
      "execution_count": 21,
      "metadata": {
        "id": "GroygcLLNH3J"
      },
      "outputs": [],
      "source": [
        "safety_settings = [\n",
        "    {\n",
        "        \"category\": \"HARM_CATEGORY_HARASSMENT\",\n",
        "        \"threshold\": \"BLOCK_NONE\",\n",
        "    },\n",
        "    {\n",
        "        \"category\": \"HARM_CATEGORY_HATE_SPEECH\",\n",
        "        \"threshold\": \"BLOCK_NONE\",\n",
        "    },\n",
        "    {\n",
        "        \"category\": \"HARM_CATEGORY_SEXUALLY_EXPLICIT\",\n",
        "        \"threshold\": \"BLOCK_NONE\",\n",
        "    },\n",
        "    {\n",
        "        \"category\": \"HARM_CATEGORY_DANGEROUS_CONTENT\",\n",
        "        \"threshold\": \"BLOCK_NONE\",\n",
        "    },\n",
        "]"
      ]
    },
    {
      "cell_type": "code",
      "execution_count": 23,
      "metadata": {
        "id": "PWLK7TEi7_mP",
        "colab": {
          "base_uri": "https://localhost:8080/"
        },
        "outputId": "2935ea4c-eb0e-44e7-e274-698099e7a1ba"
      },
      "outputs": [
        {
          "output_type": "stream",
          "name": "stdout",
          "text": [
            "This video is about **Ronald Reagan's \"Tear Down This Wall\" speech** delivered at the Brandenburg Gate in West Berlin, Germany.\n",
            "\n",
            "*   **When did it happen?** The speech took place on **June 12, 1987**. Reagan references President Kennedy's visit 24 years prior (1963) and the 40th anniversary of the Marshall Plan (1947), both of which align with 1987.\n",
            "*   **Who is the most important person in the video?** The most important person is **Ronald Reagan**, the then-President of the United States, who delivered the iconic speech.\n",
            "*   **How the event is called?** It is widely known as the **\"Tear Down This Wall\" speech** or **Ronald Reagan's Brandenburg Gate speech**.\n",
            "\n",
            "Regarding the number of persons present in the video:\n",
            "There are approximately **18-20 dignitaries** visible on the stage with President Reagan. The crowd in front of the stage consists of **hundreds, if not thousands, of people**.\n"
          ]
        }
      ],
      "source": [
        "from google.genai import types\n",
        "\n",
        "MODEL_ID=\"gemini-2.5-flash\" # @param [\"gemini-2.5-flash-lite\",\"gemini-2.5-flash\",\"gemini-2.5-pro\"] {\"allow-input\":true, isTemplate: true}\n",
        "response = client.models.generate_content(\n",
        "    model=f\"models/{MODEL_ID}\",\n",
        "    contents=[\n",
        "        \"what is the video about and how many persons are present in the video\",\n",
        "        video_file\n",
        "        ],\n",
        "    config=types.GenerateContentConfig(\n",
        "        system_instruction=system_prompt,\n",
        "        safety_settings=safety_settings,\n",
        "        ),\n",
        "    )\n",
        "print(response.text)"
      ]
    },
    {
      "cell_type": "markdown",
      "metadata": {
        "id": "T6ByVwbmTfve"
      },
      "source": [
        "As you can see, the model correctly provided information about the dates, Ronald Reagan, who was the main subject of the video, and the name of this event.\n",
        "\n",
        "You can delete the video to prevent unnecessary data storage."
      ]
    },
    {
      "cell_type": "code",
      "execution_count": null,
      "metadata": {
        "id": "SomiSVmu8Czk",
        "outputId": "9a72d89e-dca0-4ef9-88ae-30953abfb89a"
      },
      "outputs": [
        {
          "data": {
            "text/plain": [
              "DeleteFileResponse()"
            ]
          },
          "execution_count": 10,
          "metadata": {},
          "output_type": "execute_result"
        }
      ],
      "source": [
        "# Delete video\n",
        "client.files.delete(name=video_file.name)"
      ]
    },
    {
      "cell_type": "markdown",
      "metadata": {
        "id": "aBM_LtQLLJA9"
      },
      "source": [
        "## Summary\n",
        "\n",
        "Now you know how you can prompt Gemini models with videos and use them to recognize historic events.\n",
        "\n",
        "This notebook shows only one of many use cases. Check the [Video understanding](../quickstarts/Video_understanding.ipynb) notebook for more examples of using the Gemini API with videos."
      ]
    }
  ],
  "metadata": {
    "colab": {
      "name": "Analyze_a_Video_Historic_Event_Recognition.ipynb",
      "provenance": []
    },
    "kernelspec": {
      "display_name": "Python 3",
      "name": "python3"
    }
  },
  "nbformat": 4,
  "nbformat_minor": 0
}